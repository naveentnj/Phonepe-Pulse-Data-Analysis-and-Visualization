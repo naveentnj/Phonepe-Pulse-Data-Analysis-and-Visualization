{
 "cells": [
  {
   "cell_type": "markdown",
   "id": "a7447c5e",
   "metadata": {},
   "source": [
    "# Aggregated_TransactionData_DataFrame"
   ]
  },
  {
   "cell_type": "code",
   "execution_count": null,
   "id": "8f63ef37",
   "metadata": {},
   "outputs": [],
   "source": [
    "# https://stackoverflow.com/questions/70837397/good-alternative-to-pandas-append-method-now-that-it-is-being-deprecated\n",
    "\n",
    "# INITIALIZATION\n",
    "import os\n",
    "from os import walk\n",
    "from pathlib import Path\n",
    "import pandas as pd\n",
    "from pandas import concat\n",
    "\n",
    "Transaction_Data_Aggregated_DF = pd.DataFrame({}) \n",
    "Transaction_Summary_Data_Aggregated_DF = pd.DataFrame({}) \n",
    "\n",
    "def transactionDataAggregation(state, year, quarter, path):\n",
    "    global Transaction_Data_Aggregated_DF\n",
    "    global Transaction_Summary_Data_Aggregated_DF\n",
    "    dft = pd.read_json(path)\n",
    "    \n",
    "    dataFrom=dft['data']['from']\n",
    "    dataTo=dft['data']['to'] \n",
    "    transactionNewRow = [{'State':state,'Year': year,'Quarter':quarter,'Data From':dataFrom,'Data To':dataTo}]\n",
    "    transactionNewRow = pd.DataFrame.from_records(transactionNewRow)\n",
    "    Transaction_Summary_Data_Aggregated_DF = pd.concat([Transaction_Summary_Data_Aggregated_DF, transactionNewRow], ignore_index = True)\n",
    "    \n",
    "    DAT_temp = dft['data']['transactionData']\n",
    "    if DAT_temp:      \n",
    "        for i in DAT_temp:\n",
    "            transactionDataNewRow = [{ 'Payment Mode':i['name'], 'Total Transactions count':i['paymentInstruments'][0]['count'], 'Total Amount':i['paymentInstruments'][0]['amount'],'Quarter':quarter,'Year': year,'State':state}]  \n",
    "            transactionDataNewRow = pd.DataFrame.from_records(transactionDataNewRow)\n",
    "            Transaction_Data_Aggregated_DF = pd.concat([Transaction_Data_Aggregated_DF, transactionDataNewRow],ignore_index = True) \n",
    "        \n",
    "# PATH FOR ALL STATES IN AGGREGATED TRANSACTIONS\n",
    "\n",
    "stateTransactionDataPath = r'D:\\MachineLearning\\pulse-master\\data\\aggregated\\transaction\\country\\india\\state'\n",
    "stateTransactionDataAgg = os.listdir(stateTransactionDataPath)\n",
    "\n",
    "for i in stateTransactionDataAgg:                     # ITERATE ALL STATES\n",
    "    #print(i)\n",
    "    p=stateTransactionDataPath+'\\\\'+i                       # PICK ONE STATE PATH\n",
    "    states_year=os.listdir(p)          # PICK 2018 TO 2022 DIRECTORIES IN ONE STATE\n",
    "    for j in states_year:              # ITERATE YEARS 2018 TO 2022\n",
    "        #print(j)\n",
    "        pt=p+'\\\\'+j                    # PICK ONE YEAR PATH\n",
    "        f=[]\n",
    "        for (dirpath, dirnames, filenames) in walk(pt):\n",
    "            f.extend(filenames)        # PICK ALL THE QFILES IN SELECTED YEAR \n",
    "            break\n",
    "        for k in f:                    # ITERATE THROUGH QFILES 1.JSON TO 4.JSON\n",
    "            filePath=pt+'\\\\'+k               # PICK ONE QFILE PATH\n",
    "            fn=Path(filePath).stem           # NOTE DOWN QUARTER\n",
    "            \n",
    "            transactionDataAggregation(i,j,fn,filePath) # CALL FUNCTION WITH STATE,YEAR,QFILE,QUARTER"
   ]
  },
  {
   "cell_type": "code",
   "execution_count": null,
   "id": "e63a43be",
   "metadata": {},
   "outputs": [],
   "source": [
    "Transaction_Data_Aggregated_DF.to_csv('data\\Transaction-Data-Aggregated-Table.csv',index=False)  \n",
    "print(len(Transaction_Data_Aggregated_DF))\n",
    "Transaction_Data_Aggregated_DF.head(5)"
   ]
  },
  {
   "cell_type": "code",
   "execution_count": null,
   "id": "01ff7ee7",
   "metadata": {},
   "outputs": [],
   "source": [
    "Transaction_Summary_Data_Aggregated_DF.to_csv('data\\Transaction-Summary-Data-Aggregated-Table.csv',index=False)  \n",
    "print(len(Transaction_Summary_Data_Aggregated_DF))\n",
    "Transaction_Summary_Data_Aggregated_DF.head(5)"
   ]
  },
  {
   "cell_type": "markdown",
   "id": "4eb54976",
   "metadata": {},
   "source": [
    "# Aggregated_User_Data_DataFrame"
   ]
  },
  {
   "cell_type": "code",
   "execution_count": null,
   "id": "e248c8ae",
   "metadata": {},
   "outputs": [],
   "source": [
    "# INITIALIZATION\n",
    "import os\n",
    "from os import walk\n",
    "from pathlib import Path\n",
    "import pandas as pd\n",
    "\n",
    "Aggregated_User_Data_DataFrame = pd.DataFrame({}) \n",
    "Aggregated_User_Data_Summary_DataFrame = pd.DataFrame({}) \n",
    "\n",
    "def userDataAggregation(state,year,quarter,path):\n",
    "    global Aggregated_User_Data_DataFrame\n",
    "    global Aggregated_User_Data_Summary_DataFrame\n",
    "    dfu = pd.read_json(path)\n",
    "    \n",
    "    registeredUsers=dfu['data']['aggregated']['registeredUsers']\n",
    "    appOpens=dfu['data']['aggregated']['appOpens']\n",
    "    U_row = [{'State':state,'Year': year,'Quarter':quarter,'Registered Users':registeredUsers,'AppOpenings':appOpens}]\n",
    "    U_row = pd.DataFrame.from_records(U_row)\n",
    "    Aggregated_User_Data_Summary_DataFrame = pd.concat([Aggregated_User_Data_Summary_DataFrame, U_row], ignore_index = True )\n",
    "\n",
    "    DAU_temp=dfu['data']['usersByDevice']\n",
    "    if DAU_temp:  \n",
    "        for i in DAU_temp:\n",
    "            DAU_row = [{ 'Brand Name':i['brand'], 'Registered Users Count':i['count'], \\\n",
    "                        'Percentage Share of Brand':i['percentage'],'Quarter':quarter,'Year': year,'State':state}] \n",
    "            DAU_row = pd.DataFrame(DAU_row)\n",
    "            Aggregated_User_Data_DataFrame = pd.concat([Aggregated_User_Data_DataFrame, DAU_row], ignore_index = True)\n",
    "\n",
    "s= r'D:\\MachineLearning\\pulse-master\\data\\aggregated\\user\\country\\india\\state'\n",
    "path = r'D:\\MachineLearning\\pulse-master\\data\\aggregated\\user\\country\\india\\state'\n",
    "states = os.listdir(path)\n",
    "\n",
    "for i in states:\n",
    "    #print(i)\n",
    "    p=s+'\\\\'+i\n",
    "    states_year=os.listdir(p)\n",
    "    for j in states_year:\n",
    "        #print(j)\n",
    "        pt=p+'\\\\'+j\n",
    "        f=[]\n",
    "        for (dirpath, dirnames, filenames) in walk(pt):\n",
    "            f.extend(filenames)\n",
    "            break\n",
    "        for k in f:\n",
    "            fp=pt+'\\\\'+k            \n",
    "            fn=Path(fp).stem\n",
    "            #print(i,j,fn)\n",
    "            userDataAggregation(i,j,fn,fp)\n",
    "            #print(fp)  "
   ]
  },
  {
   "cell_type": "code",
   "execution_count": null,
   "id": "e52590db",
   "metadata": {},
   "outputs": [],
   "source": [
    "Aggregated_User_Data_DataFrame.to_csv('data\\Aggregated_User_Data_DataFrame.csv',index=False) \n",
    "print(len(Aggregated_User_Data_DataFrame))\n",
    "Aggregated_User_Data_DataFrame.head(5)"
   ]
  },
  {
   "cell_type": "code",
   "execution_count": null,
   "id": "7732d3d7",
   "metadata": {},
   "outputs": [],
   "source": [
    "Aggregated_User_Data_Summary_DataFrame.to_csv('data\\Aggregated_User_Data_Summary.csv',index=False) \n",
    "print(len(Aggregated_User_Data_Summary_DataFrame))\n",
    "Aggregated_User_Data_Summary_DataFrame.head(5)"
   ]
  },
  {
   "cell_type": "code",
   "execution_count": null,
   "id": "a7948d70",
   "metadata": {},
   "outputs": [],
   "source": []
  },
  {
   "cell_type": "markdown",
   "id": "7c46b686",
   "metadata": {},
   "source": [
    "# Transaction Map Data DataFrame"
   ]
  },
  {
   "cell_type": "code",
   "execution_count": null,
   "id": "c1fe7487",
   "metadata": {},
   "outputs": [],
   "source": [
    "# INITIALIZATION\n",
    "import os\n",
    "from os import walk\n",
    "from pathlib import Path\n",
    "import pandas as pd\n",
    "\n",
    "transactionDataMapDF = pd.DataFrame({})\n",
    "\n",
    "def Data_Map_Transaction_Table_Fun(state,year,quarter,path):\n",
    "    global transactionDataMapDF\n",
    "    dfmt = pd.read_json(path)\n",
    "    DMT_temp=dfmt['data']['hoverDataList'] \n",
    "    if DMT_temp:\n",
    "        for i in DMT_temp:\n",
    "            DMT_row = [{ 'Place Name':i['name'], 'Total Transactions count':i['metric'][0]['count'], \\\n",
    "                      'Total Amount':i['metric'][0]['amount'],'Quarter':quarter,'Year': year,'State':state}]\n",
    "            DMT_row = pd.DataFrame.from_records(DMT_row)\n",
    "            transactionDataMapDF = pd.concat([transactionDataMapDF, DMT_row], ignore_index = True)  \n",
    "\n",
    "t_s= r'D:\\MachineLearning\\pulse-master\\data\\map\\transaction\\hover\\country\\india\\state'\n",
    "t_path = r'D:\\MachineLearning\\pulse-master\\data\\map\\transaction\\hover\\country\\india\\state'\n",
    "t_states = os.listdir(t_path) \n",
    "\n",
    "for i in t_states:\n",
    "    #print(i)\n",
    "    p=t_s+'\\\\'+i\n",
    "    states_year=os.listdir(p)\n",
    "    for j in states_year:\n",
    "        #print(j)\n",
    "        pt=p+'\\\\'+j\n",
    "        fileNamesList = []\n",
    "        for (dirpath, dirnames, filenames) in walk(pt):\n",
    "            fileNamesList.extend(filenames)\n",
    "            break\n",
    "            \n",
    "        for jsonFileName in fileNamesList:\n",
    "            filePath = pt+'\\\\'+ jsonFileName\n",
    "            fn=Path(filePath).stem\n",
    "            #print(i,j,fn)\n",
    "            Data_Map_Transaction_Table_Fun(i,j,fn,filePath)\n",
    "            #print(fp) \n"
   ]
  },
  {
   "cell_type": "code",
   "execution_count": null,
   "id": "ad0306d1",
   "metadata": {},
   "outputs": [],
   "source": [
    "transactionDataMapDF.to_csv('Data_Map_Transaction_Table.csv',index=False) \n",
    "print(len(transactionDataMapDF))\n",
    "transactionDataMapDF.head(5)"
   ]
  },
  {
   "cell_type": "code",
   "execution_count": null,
   "id": "57860a6a",
   "metadata": {},
   "outputs": [],
   "source": [
    "# INITIALIZATION\n",
    "import os\n",
    "from os import walk\n",
    "from pathlib import Path\n",
    "import pandas as pd\n",
    "\n",
    "User_Map_Data_India = pd.DataFrame({}) \n",
    "\n",
    "def Data_Map_User_Table_Fun(state,year,quarter,path):\n",
    "    global User_Map_Data_India\n",
    "    dfmu = pd.read_json(path)\n",
    "    \n",
    "    DMU_temp=dfmu['data']['hoverData'] \n",
    "    if DMU_temp:\n",
    "        for i in DMU_temp:\n",
    "            #print(i, DMU_temp[i]['registeredUsers'],DMU_temp[i]['appOpens'])\n",
    "            dfNewRow = [{ 'Place Name':i, 'Registered Users Count':DMU_temp[i]['registeredUsers'],\\\n",
    "                         'App Openings':DMU_temp[i]['appOpens'],'Quarter':quarter,'Year': year,'State':state}]  \n",
    "            #User_Data_IndiaMap = Data_Map_User_Table.append(DMU_row, ignore_index = True)\n",
    "            df_new_row = pd.DataFrame.from_records(dfNewRow)\n",
    "            User_Map_Data_India = pd.concat([User_Map_Data_India, df_new_row], ignore_index = True)\n",
    "\n",
    "t_s= r'D:\\MachineLearning\\pulse-master\\data\\map\\user\\hover\\country\\india\\state'\n",
    "t_path = r'D:\\MachineLearning\\pulse-master\\data\\map\\user\\hover\\country\\india\\state'\n",
    "t_states = os.listdir(t_path) \n",
    "\n",
    "for i in t_states:\n",
    "    #print(i)\n",
    "    p=t_s+'\\\\'+i\n",
    "    states_year=os.listdir(p)\n",
    "    for j in states_year:\n",
    "        #print(j)\n",
    "        pt=p+'\\\\'+j\n",
    "        fileNamesList = []\n",
    "        for (dirpath, dirnames, filenames) in walk(pt):\n",
    "            fileNamesList.extend(filenames)\n",
    "            break\n",
    "        for k in f:\n",
    "            filePath=pt+'\\\\'+k            \n",
    "            fn=Path(filePath).stem\n",
    "            #print(i,j,fn)\n",
    "            Data_Map_User_Table_Fun(i,j,fn,fp)\n",
    "            #print(fp) \n"
   ]
  },
  {
   "cell_type": "code",
   "execution_count": null,
   "id": "cbdf2f72",
   "metadata": {},
   "outputs": [],
   "source": [
    "User_Map_Data_India.to_csv('data\\User_Map_Data_India.csv',index=False) \n",
    "print(len(User_Map_Data_India))\n",
    "User_Map_Data_India.head(5)"
   ]
  },
  {
   "cell_type": "markdown",
   "id": "2290a253",
   "metadata": {},
   "source": [
    "# Longitude and Latitude Data"
   ]
  },
  {
   "cell_type": "code",
   "execution_count": null,
   "id": "525f173f",
   "metadata": {},
   "outputs": [],
   "source": []
  },
  {
   "cell_type": "code",
   "execution_count": null,
   "id": "623fd4a9",
   "metadata": {},
   "outputs": [],
   "source": []
  }
 ],
 "metadata": {
  "kernelspec": {
   "display_name": "Python 3 (ipykernel)",
   "language": "python",
   "name": "python3"
  },
  "language_info": {
   "codemirror_mode": {
    "name": "ipython",
    "version": 3
   },
   "file_extension": ".py",
   "mimetype": "text/x-python",
   "name": "python",
   "nbconvert_exporter": "python",
   "pygments_lexer": "ipython3",
   "version": "3.9.16"
  }
 },
 "nbformat": 4,
 "nbformat_minor": 5
}
